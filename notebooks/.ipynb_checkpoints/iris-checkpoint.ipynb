{
 "cells": [
  {
   "cell_type": "code",
   "execution_count": 13,
   "metadata": {},
   "outputs": [],
   "source": [
    "from __future__ import absolute_import\n",
    "from __future__ import division\n",
    "from __future__ import print_function\n",
    "\n",
    "import os\n",
    "import urllib\n",
    "\n",
    "import numpy as np\n",
    "import tensorflow as tf"
   ]
  },
  {
   "cell_type": "markdown",
   "metadata": {},
   "source": [
    "### Data sets"
   ]
  },
  {
   "cell_type": "code",
   "execution_count": 14,
   "metadata": {},
   "outputs": [],
   "source": [
    "IRIS_TRAINING = \"data/iris_training.csv\"\n",
    "IRIS_TRAINING_URL = \"http://download.tensorflow.org/data/iris_training.csv\"\n",
    "\n",
    "IRIS_TEST = \"data/iris_test.csv\"\n",
    "IRIS_TEST_URL = \"http://download.tensorflow.org/data/iris_test.csv\"\n"
   ]
  },
  {
   "cell_type": "markdown",
   "metadata": {},
   "source": [
    "### If the training and test sets aren't stored locally, download them."
   ]
  },
  {
   "cell_type": "code",
   "execution_count": 15,
   "metadata": {},
   "outputs": [],
   "source": [
    "def main():\n",
    "    \n",
    "    if not os.path.exists(IRIS_TRAINING):\n",
    "        raw = urllib.urlopen(IRIS_TRAINING_URL).read()\n",
    "        with open(IRIS_TRAINING, \"w\") as f:\n",
    "            f.write(raw)\n",
    "            \n",
    "    if not os.path.exists(IRIS_TEST):\n",
    "        raw = urllib.urlopen(IRIS_TEST_URL).read()\n",
    "        with open(IRIS_TEST, \"w\") as f:\n",
    "            f.write(raw)"
   ]
  },
  {
   "cell_type": "code",
   "execution_count": 16,
   "metadata": {},
   "outputs": [],
   "source": [
    "# Load datasets.\n",
    "training_set = tf.contrib.learn.datasets.base.load_csv_with_header(\n",
    "    filename=IRIS_TRAINING,\n",
    "    target_dtype=np.int,\n",
    "    features_dtype=np.float32)\n",
    "test_set = tf.contrib.learn.datasets.base.load_csv_with_header(\n",
    "    filename=IRIS_TEST,\n",
    "    target_dtype=np.int,\n",
    "    features_dtype=np.float32)"
   ]
  },
  {
   "cell_type": "code",
   "execution_count": 17,
   "metadata": {},
   "outputs": [
    {
     "name": "stdout",
     "output_type": "stream",
     "text": [
      "INFO:tensorflow:Using default config.\n",
      "INFO:tensorflow:Using config: {'_keep_checkpoint_max': 5, '_master': '', '_environment': 'local', '_session_config': None, '_num_worker_replicas': 0, '_model_dir': 'data/iris_model', '_tf_random_seed': None, '_task_id': 0, '_is_chief': True, '_save_checkpoints_secs': 600, '_tf_config': gpu_options {\n",
      "  per_process_gpu_memory_fraction: 1.0\n",
      "}\n",
      ", '_save_checkpoints_steps': None, '_num_ps_replicas': 0, '_keep_checkpoint_every_n_hours': 10000, '_log_step_count_steps': 100, '_task_type': None, '_save_summary_steps': 100, '_evaluation_master': '', '_cluster_spec': <tensorflow.python.training.server_lib.ClusterSpec object at 0x7f32f696fe80>}\n"
     ]
    }
   ],
   "source": [
    "# Specify that all features have real-value data\n",
    "feature_columns = [tf.contrib.layers.real_valued_column(\"\", dimension=4)]\n",
    "\n",
    "# Build 3 layer DNN with 10, 20, 10 units respectively.\n",
    "classifier = tf.contrib.learn.DNNClassifier(feature_columns=feature_columns,\n",
    "                                        hidden_units=[10, 20, 10],\n",
    "                                        n_classes=3,\n",
    "                                        model_dir=\"data/iris_model\")"
   ]
  },
  {
   "cell_type": "code",
   "execution_count": 18,
   "metadata": {},
   "outputs": [
    {
     "name": "stdout",
     "output_type": "stream",
     "text": [
      "INFO:tensorflow:Create CheckpointSaverHook.\n",
      "INFO:tensorflow:Graph was finalized.\n",
      "INFO:tensorflow:Restoring parameters from data/iris_model/model.ckpt-4000\n",
      "INFO:tensorflow:Running local_init_op.\n",
      "INFO:tensorflow:Done running local_init_op.\n",
      "INFO:tensorflow:Saving checkpoints for 4001 into data/iris_model/model.ckpt.\n",
      "INFO:tensorflow:step = 4001, loss = 0.0333784\n",
      "INFO:tensorflow:global_step/sec: 468.79\n",
      "INFO:tensorflow:step = 4101, loss = 0.033061635 (0.224 sec)\n",
      "INFO:tensorflow:global_step/sec: 517.689\n",
      "INFO:tensorflow:step = 4201, loss = 0.032844447 (0.192 sec)\n",
      "INFO:tensorflow:global_step/sec: 478.971\n",
      "INFO:tensorflow:step = 4301, loss = 0.03248866 (0.212 sec)\n",
      "INFO:tensorflow:global_step/sec: 487.827\n",
      "INFO:tensorflow:step = 4401, loss = 0.032237742 (0.203 sec)\n",
      "INFO:tensorflow:global_step/sec: 437.62\n",
      "INFO:tensorflow:step = 4501, loss = 0.032003343 (0.229 sec)\n",
      "INFO:tensorflow:global_step/sec: 486.865\n",
      "INFO:tensorflow:step = 4601, loss = 0.031652495 (0.204 sec)\n",
      "INFO:tensorflow:global_step/sec: 485.442\n",
      "INFO:tensorflow:step = 4701, loss = 0.03125431 (0.208 sec)\n",
      "INFO:tensorflow:global_step/sec: 517.571\n",
      "INFO:tensorflow:step = 4801, loss = 0.030966824 (0.193 sec)\n",
      "INFO:tensorflow:global_step/sec: 463.997\n",
      "INFO:tensorflow:step = 4901, loss = 0.030701457 (0.215 sec)\n",
      "INFO:tensorflow:global_step/sec: 482.628\n",
      "INFO:tensorflow:step = 5001, loss = 0.030492345 (0.209 sec)\n",
      "INFO:tensorflow:global_step/sec: 514.365\n",
      "INFO:tensorflow:step = 5101, loss = 0.030111326 (0.191 sec)\n",
      "INFO:tensorflow:global_step/sec: 473.106\n",
      "INFO:tensorflow:step = 5201, loss = 0.02988083 (0.218 sec)\n",
      "INFO:tensorflow:global_step/sec: 457.378\n",
      "INFO:tensorflow:step = 5301, loss = 0.029703666 (0.214 sec)\n",
      "INFO:tensorflow:global_step/sec: 528.222\n",
      "INFO:tensorflow:step = 5401, loss = 0.029578097 (0.188 sec)\n",
      "INFO:tensorflow:global_step/sec: 398.824\n",
      "INFO:tensorflow:step = 5501, loss = 0.029245341 (0.253 sec)\n",
      "INFO:tensorflow:global_step/sec: 391.185\n",
      "INFO:tensorflow:step = 5601, loss = 0.02899557 (0.255 sec)\n",
      "INFO:tensorflow:global_step/sec: 343.682\n",
      "INFO:tensorflow:step = 5701, loss = 0.028801123 (0.294 sec)\n",
      "INFO:tensorflow:global_step/sec: 473.084\n",
      "INFO:tensorflow:step = 5801, loss = 0.02862071 (0.209 sec)\n",
      "INFO:tensorflow:global_step/sec: 408.663\n",
      "INFO:tensorflow:step = 5901, loss = 0.028350467 (0.245 sec)\n",
      "INFO:tensorflow:Saving checkpoints for 6000 into data/iris_model/model.ckpt.\n",
      "INFO:tensorflow:Loss for final step: 0.02780618.\n"
     ]
    },
    {
     "data": {
      "text/plain": [
       "DNNClassifier(params={'optimizer': None, 'activation_fn': <function relu at 0x7f32fb313268>, 'embedding_lr_multipliers': None, 'dropout': None, 'head': <tensorflow.contrib.learn.python.learn.estimators.head._MultiClassHead object at 0x7f32f696fef0>, 'hidden_units': [10, 20, 10], 'gradient_clip_norm': None, 'feature_columns': (_RealValuedColumn(column_name='', dimension=4, default_value=None, dtype=tf.float32, normalizer=None),), 'input_layer_min_slice_size': None})"
      ]
     },
     "execution_count": 18,
     "metadata": {},
     "output_type": "execute_result"
    }
   ],
   "source": [
    "# Fit model.\n",
    "classifier.fit(x=training_set.data, y=training_set.target, steps=2000)"
   ]
  },
  {
   "cell_type": "code",
   "execution_count": 19,
   "metadata": {},
   "outputs": [
    {
     "name": "stdout",
     "output_type": "stream",
     "text": [
      "INFO:tensorflow:Starting evaluation at 2018-03-12-13:16:03\n",
      "INFO:tensorflow:Graph was finalized.\n",
      "INFO:tensorflow:Restoring parameters from data/iris_model/model.ckpt-6000\n",
      "INFO:tensorflow:Running local_init_op.\n",
      "INFO:tensorflow:Done running local_init_op.\n",
      "INFO:tensorflow:Finished evaluation at 2018-03-12-13:16:03\n",
      "INFO:tensorflow:Saving dict for global step 6000: accuracy = 0.96666664, global_step = 6000, loss = 0.09957186\n",
      "Accuracy: 0.966667\n"
     ]
    }
   ],
   "source": [
    "# Evaluate accuracy.\n",
    "accuracy_score = classifier.evaluate(x=test_set.data,\n",
    "                                     y=test_set.target)[\"accuracy\"]\n",
    "print('Accuracy: {0:f}'.format(accuracy_score))"
   ]
  },
  {
   "cell_type": "code",
   "execution_count": 20,
   "metadata": {},
   "outputs": [
    {
     "name": "stdout",
     "output_type": "stream",
     "text": [
      "WARNING:tensorflow:float64 is not supported by many models, consider casting to float32.\n",
      "INFO:tensorflow:Graph was finalized.\n",
      "INFO:tensorflow:Restoring parameters from data/iris_model/model.ckpt-6000\n",
      "INFO:tensorflow:Running local_init_op.\n",
      "INFO:tensorflow:Done running local_init_op.\n",
      "Predictions: [1, 1]\n"
     ]
    }
   ],
   "source": [
    "# Classify two new flower samples.\n",
    "new_samples = np.array(\n",
    "    [[6.4, 3.2, 4.5, 1.5], [5.8, 3.1, 5.0, 1.7]], dtype=float)\n",
    "y = list(classifier.predict(new_samples, as_iterable=True))\n",
    "print('Predictions: {}'.format(str(y)))"
   ]
  },
  {
   "cell_type": "code",
   "execution_count": null,
   "metadata": {},
   "outputs": [],
   "source": []
  }
 ],
 "metadata": {
  "kernelspec": {
   "display_name": "Python 3",
   "language": "python",
   "name": "python3"
  },
  "language_info": {
   "codemirror_mode": {
    "name": "ipython",
    "version": 3
   },
   "file_extension": ".py",
   "mimetype": "text/x-python",
   "name": "python",
   "nbconvert_exporter": "python",
   "pygments_lexer": "ipython3",
   "version": "3.5.5"
  }
 },
 "nbformat": 4,
 "nbformat_minor": 2
}
