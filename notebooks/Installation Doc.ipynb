{
 "cells": [
  {
   "cell_type": "markdown",
   "metadata": {},
   "source": [
    "## Installing with Anaconda\n",
    "<hr>"
   ]
  },
  {
   "cell_type": "markdown",
   "metadata": {},
   "source": [
    "### 1. Create a conda environment named tensorflow to run a version of Python by invoking the following command:\n",
    "\n",
    "    $ conda create -n tensorflow pip python=3.5\n",
    "### 2. Activate the conda environment by issuing the following command:\n",
    "\n",
    "    $ source activate tensorflow\n",
    "  \n",
    "      (tensorflow)$   \n",
    "      #### Your prompt should change\n",
    "### 3. Install TensorFlow inside your conda environment:\n",
    "\n",
    "    (tensorflow)$ pip install --ignore-installed tensorflow\n",
    "    \n",
    "    Run a short TensorFlow program \n",
    "\n",
    "### 4. Validate your installation\n",
    "\n",
    "Invoke python from your shell as follows:\n",
    "\n",
    "    $ python\n",
    "\n",
    "Enter the following short program inside the python interactive shell:\n",
    "\n",
    "    # Python\n",
    "    import tensorflow as tf \n",
    "    hello = tf.constant('Hello, TensorFlow!')\n",
    "    sess = tf.Session()\n",
    "    print(sess.run(hello))\n",
    "\n",
    "If the system outputs the following, then you are ready to begin writing TensorFlow programs:\n",
    "\n",
    "    Hello, TensorFlow!"
   ]
  },
  {
   "cell_type": "markdown",
   "metadata": {},
   "source": [
    " \n"
   ]
  },
  {
   "cell_type": "code",
   "execution_count": null,
   "metadata": {},
   "outputs": [],
   "source": []
  }
 ],
 "metadata": {
  "kernelspec": {
   "display_name": "Python 3",
   "language": "python",
   "name": "python3"
  },
  "language_info": {
   "codemirror_mode": {
    "name": "ipython",
    "version": 3
   },
   "file_extension": ".py",
   "mimetype": "text/x-python",
   "name": "python",
   "nbconvert_exporter": "python",
   "pygments_lexer": "ipython3",
   "version": "3.5.5"
  }
 },
 "nbformat": 4,
 "nbformat_minor": 2
}
